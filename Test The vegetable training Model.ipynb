{
 "cells": [
  {
   "cell_type": "markdown",
   "id": "eb4dbee0",
   "metadata": {},
   "source": [
    "# The model is to be tested with different images to know if it is working correctly.\n",
    "\n",
    "Import the packages and load the saved model\n",
    "Import the required libraries"
   ]
  },
  {
   "cell_type": "code",
   "execution_count": 1,
   "id": "9bb229c6",
   "metadata": {},
   "outputs": [
    {
     "name": "stdout",
     "output_type": "stream",
     "text": [
      "Requirement already satisfied: Tensorflow in c:\\users\\dell\\anaconda3\\envs\\keras_env\\lib\\site-packages (2.8.0)\n",
      "Requirement already satisfied: tensorflow-io-gcs-filesystem>=0.23.1 in c:\\users\\dell\\anaconda3\\envs\\keras_env\\lib\\site-packages (from Tensorflow) (0.26.0)\n",
      "Requirement already satisfied: libclang>=9.0.1 in c:\\users\\dell\\anaconda3\\envs\\keras_env\\lib\\site-packages (from Tensorflow) (14.0.1)\n",
      "Requirement already satisfied: wrapt>=1.11.0 in c:\\users\\dell\\anaconda3\\envs\\keras_env\\lib\\site-packages (from Tensorflow) (1.14.1)\n",
      "Requirement already satisfied: opt-einsum>=2.3.2 in c:\\users\\dell\\anaconda3\\envs\\keras_env\\lib\\site-packages (from Tensorflow) (3.3.0)\n",
      "Requirement already satisfied: protobuf>=3.9.2 in c:\\users\\dell\\anaconda3\\envs\\keras_env\\lib\\site-packages (from Tensorflow) (3.19.4)\n",
      "Requirement already satisfied: google-pasta>=0.1.1 in c:\\users\\dell\\anaconda3\\envs\\keras_env\\lib\\site-packages (from Tensorflow) (0.2.0)\n",
      "Requirement already satisfied: h5py>=2.9.0 in c:\\users\\dell\\anaconda3\\envs\\keras_env\\lib\\site-packages (from Tensorflow) (3.7.0)\n",
      "Requirement already satisfied: six>=1.12.0 in c:\\users\\dell\\anaconda3\\envs\\keras_env\\lib\\site-packages (from Tensorflow) (1.16.0)\n",
      "Requirement already satisfied: tensorboard<2.9,>=2.8 in c:\\users\\dell\\anaconda3\\envs\\keras_env\\lib\\site-packages (from Tensorflow) (2.8.0)\n",
      "Requirement already satisfied: keras-preprocessing>=1.1.1 in c:\\users\\dell\\anaconda3\\envs\\keras_env\\lib\\site-packages (from Tensorflow) (1.1.2)\n",
      "Requirement already satisfied: typing-extensions>=3.6.6 in c:\\users\\dell\\anaconda3\\envs\\keras_env\\lib\\site-packages (from Tensorflow) (4.1.1)\n",
      "Requirement already satisfied: keras<2.9,>=2.8.0rc0 in c:\\users\\dell\\anaconda3\\envs\\keras_env\\lib\\site-packages (from Tensorflow) (2.8.0)\n",
      "Requirement already satisfied: setuptools in c:\\users\\dell\\anaconda3\\envs\\keras_env\\lib\\site-packages (from Tensorflow) (61.2.0)\n",
      "Requirement already satisfied: grpcio<2.0,>=1.24.3 in c:\\users\\dell\\anaconda3\\envs\\keras_env\\lib\\site-packages (from Tensorflow) (1.47.0)\n",
      "Requirement already satisfied: absl-py>=0.4.0 in c:\\users\\dell\\anaconda3\\envs\\keras_env\\lib\\site-packages (from Tensorflow) (1.1.0)\n",
      "Requirement already satisfied: numpy>=1.20 in c:\\users\\dell\\anaconda3\\envs\\keras_env\\lib\\site-packages (from Tensorflow) (1.23.1)\n",
      "Requirement already satisfied: flatbuffers>=1.12 in c:\\users\\dell\\anaconda3\\envs\\keras_env\\lib\\site-packages (from Tensorflow) (1.12)\n",
      "Requirement already satisfied: gast>=0.2.1 in c:\\users\\dell\\anaconda3\\envs\\keras_env\\lib\\site-packages (from Tensorflow) (0.4.0)\n",
      "Requirement already satisfied: tf-estimator-nightly==2.8.0.dev2021122109 in c:\\users\\dell\\anaconda3\\envs\\keras_env\\lib\\site-packages (from Tensorflow) (2.8.0.dev2021122109)\n",
      "Requirement already satisfied: astunparse>=1.6.0 in c:\\users\\dell\\anaconda3\\envs\\keras_env\\lib\\site-packages (from Tensorflow) (1.6.3)\n",
      "Requirement already satisfied: termcolor>=1.1.0 in c:\\users\\dell\\anaconda3\\envs\\keras_env\\lib\\site-packages (from Tensorflow) (1.1.0)\n",
      "Requirement already satisfied: wheel<1.0,>=0.23.0 in c:\\users\\dell\\anaconda3\\envs\\keras_env\\lib\\site-packages (from astunparse>=1.6.0->Tensorflow) (0.37.1)\n",
      "Requirement already satisfied: tensorboard-plugin-wit>=1.6.0 in c:\\users\\dell\\anaconda3\\envs\\keras_env\\lib\\site-packages (from tensorboard<2.9,>=2.8->Tensorflow) (1.8.1)\n",
      "Requirement already satisfied: google-auth<3,>=1.6.3 in c:\\users\\dell\\anaconda3\\envs\\keras_env\\lib\\site-packages (from tensorboard<2.9,>=2.8->Tensorflow) (2.9.1)\n",
      "Requirement already satisfied: requests<3,>=2.21.0 in c:\\users\\dell\\anaconda3\\envs\\keras_env\\lib\\site-packages (from tensorboard<2.9,>=2.8->Tensorflow) (2.28.1)\n",
      "Requirement already satisfied: tensorboard-data-server<0.7.0,>=0.6.0 in c:\\users\\dell\\anaconda3\\envs\\keras_env\\lib\\site-packages (from tensorboard<2.9,>=2.8->Tensorflow) (0.6.1)\n",
      "Requirement already satisfied: markdown>=2.6.8 in c:\\users\\dell\\anaconda3\\envs\\keras_env\\lib\\site-packages (from tensorboard<2.9,>=2.8->Tensorflow) (3.3.7)\n",
      "Requirement already satisfied: werkzeug>=0.11.15 in c:\\users\\dell\\anaconda3\\envs\\keras_env\\lib\\site-packages (from tensorboard<2.9,>=2.8->Tensorflow) (2.1.2)\n",
      "Requirement already satisfied: google-auth-oauthlib<0.5,>=0.4.1 in c:\\users\\dell\\anaconda3\\envs\\keras_env\\lib\\site-packages (from tensorboard<2.9,>=2.8->Tensorflow) (0.4.6)\n",
      "Requirement already satisfied: pyasn1-modules>=0.2.1 in c:\\users\\dell\\anaconda3\\envs\\keras_env\\lib\\site-packages (from google-auth<3,>=1.6.3->tensorboard<2.9,>=2.8->Tensorflow) (0.2.8)\n",
      "Requirement already satisfied: rsa<5,>=3.1.4 in c:\\users\\dell\\anaconda3\\envs\\keras_env\\lib\\site-packages (from google-auth<3,>=1.6.3->tensorboard<2.9,>=2.8->Tensorflow) (4.8)\n",
      "Requirement already satisfied: cachetools<6.0,>=2.0.0 in c:\\users\\dell\\anaconda3\\envs\\keras_env\\lib\\site-packages (from google-auth<3,>=1.6.3->tensorboard<2.9,>=2.8->Tensorflow) (5.2.0)\n",
      "Requirement already satisfied: requests-oauthlib>=0.7.0 in c:\\users\\dell\\anaconda3\\envs\\keras_env\\lib\\site-packages (from google-auth-oauthlib<0.5,>=0.4.1->tensorboard<2.9,>=2.8->Tensorflow) (1.3.1)\n",
      "Requirement already satisfied: pyasn1<0.5.0,>=0.4.6 in c:\\users\\dell\\anaconda3\\envs\\keras_env\\lib\\site-packages (from pyasn1-modules>=0.2.1->google-auth<3,>=1.6.3->tensorboard<2.9,>=2.8->Tensorflow) (0.4.8)\n",
      "Requirement already satisfied: certifi>=2017.4.17 in c:\\users\\dell\\anaconda3\\envs\\keras_env\\lib\\site-packages (from requests<3,>=2.21.0->tensorboard<2.9,>=2.8->Tensorflow) (2022.6.15)\n",
      "Requirement already satisfied: charset-normalizer<3,>=2 in c:\\users\\dell\\anaconda3\\envs\\keras_env\\lib\\site-packages (from requests<3,>=2.21.0->tensorboard<2.9,>=2.8->Tensorflow) (2.1.0)\n",
      "Requirement already satisfied: urllib3<1.27,>=1.21.1 in c:\\users\\dell\\anaconda3\\envs\\keras_env\\lib\\site-packages (from requests<3,>=2.21.0->tensorboard<2.9,>=2.8->Tensorflow) (1.26.10)\n",
      "Requirement already satisfied: idna<4,>=2.5 in c:\\users\\dell\\anaconda3\\envs\\keras_env\\lib\\site-packages (from requests<3,>=2.21.0->tensorboard<2.9,>=2.8->Tensorflow) (3.3)\n",
      "Requirement already satisfied: oauthlib>=3.0.0 in c:\\users\\dell\\anaconda3\\envs\\keras_env\\lib\\site-packages (from requests-oauthlib>=0.7.0->google-auth-oauthlib<0.5,>=0.4.1->tensorboard<2.9,>=2.8->Tensorflow) (3.2.0)\n",
      "Requirement already satisfied: keras in c:\\users\\dell\\anaconda3\\envs\\keras_env\\lib\\site-packages (2.8.0)\n",
      "Requirement already satisfied: pillow in c:\\users\\dell\\anaconda3\\envs\\keras_env\\lib\\site-packages (9.2.0)\n"
     ]
    }
   ],
   "source": [
    "!pip install Tensorflow\n",
    "!pip install keras\n",
    "!pip install pillow"
   ]
  },
  {
   "cell_type": "code",
   "execution_count": 2,
   "id": "e54286db",
   "metadata": {},
   "outputs": [],
   "source": [
    "from tensorflow.keras.models import load_model\n",
    "from tensorflow.keras.preprocessing import image\n",
    "from tensorflow.keras.preprocessing.image import img_to_array\n",
    "import numpy as np"
   ]
  },
  {
   "cell_type": "code",
   "execution_count": 3,
   "id": "b5f6b1c0",
   "metadata": {},
   "outputs": [],
   "source": [
    "model=load_model(\"vegetable.h5\")"
   ]
  },
  {
   "cell_type": "markdown",
   "id": "685b8f4d",
   "metadata": {},
   "source": [
    "Load the test image, pre-process it and predict\n",
    "Pre-processing the image includes converting the image to array and resizing according to the model. \n",
    "Give the pre-processed image to the model to know to which class your model belongs to."
   ]
  },
  {
   "cell_type": "code",
   "execution_count": 12,
   "id": "a84ad5ec",
   "metadata": {},
   "outputs": [],
   "source": [
    "img=image.load_img('C:/Users/Dell/Desktop/Dataset Plant Disease/Veg-dataset/Veg-dataset/test_set/Pepper,_bell___healthy/b61a5e27-1da3-4c61-9951-691fdceb9e81___JR_HL 8744.jpg', target_size=(128,128))"
   ]
  },
  {
   "cell_type": "code",
   "execution_count": 13,
   "id": "17e48d38",
   "metadata": {},
   "outputs": [],
   "source": [
    "x=image.img_to_array(img)"
   ]
  },
  {
   "cell_type": "code",
   "execution_count": 14,
   "id": "1e15416d",
   "metadata": {},
   "outputs": [],
   "source": [
    "x=np.expand_dims(x,axis=0)"
   ]
  },
  {
   "cell_type": "code",
   "execution_count": 15,
   "id": "f20591ad",
   "metadata": {},
   "outputs": [
    {
     "data": {
      "text/plain": [
       "array([[[[151., 136., 141.],\n",
       "         [163., 148., 153.],\n",
       "         [148., 133., 138.],\n",
       "         ...,\n",
       "         [161., 149., 153.],\n",
       "         [160., 148., 152.],\n",
       "         [164., 152., 156.]],\n",
       "\n",
       "        [[150., 135., 140.],\n",
       "         [146., 131., 136.],\n",
       "         [147., 132., 137.],\n",
       "         ...,\n",
       "         [157., 145., 149.],\n",
       "         [162., 150., 154.],\n",
       "         [169., 157., 161.]],\n",
       "\n",
       "        [[152., 137., 142.],\n",
       "         [154., 139., 144.],\n",
       "         [149., 134., 139.],\n",
       "         ...,\n",
       "         [162., 150., 154.],\n",
       "         [161., 149., 153.],\n",
       "         [154., 142., 146.]],\n",
       "\n",
       "        ...,\n",
       "\n",
       "        [[146., 134., 138.],\n",
       "         [132., 120., 124.],\n",
       "         [125., 113., 117.],\n",
       "         ...,\n",
       "         [153., 142., 148.],\n",
       "         [200., 189., 195.],\n",
       "         [154., 143., 149.]],\n",
       "\n",
       "        [[152., 140., 144.],\n",
       "         [149., 137., 141.],\n",
       "         [145., 133., 137.],\n",
       "         ...,\n",
       "         [188., 177., 183.],\n",
       "         [153., 142., 148.],\n",
       "         [184., 173., 179.]],\n",
       "\n",
       "        [[120., 108., 112.],\n",
       "         [138., 126., 130.],\n",
       "         [147., 135., 139.],\n",
       "         ...,\n",
       "         [180., 169., 175.],\n",
       "         [203., 192., 198.],\n",
       "         [142., 131., 137.]]]], dtype=float32)"
      ]
     },
     "execution_count": 15,
     "metadata": {},
     "output_type": "execute_result"
    }
   ],
   "source": [
    "x"
   ]
  },
  {
   "cell_type": "code",
   "execution_count": 16,
   "id": "3b970019",
   "metadata": {},
   "outputs": [],
   "source": [
    "y=np.argmax(model.predict(x), axis=1)"
   ]
  },
  {
   "cell_type": "code",
   "execution_count": 17,
   "id": "94cd7aa0",
   "metadata": {},
   "outputs": [
    {
     "data": {
      "text/plain": [
       "array([1], dtype=int64)"
      ]
     },
     "execution_count": 17,
     "metadata": {},
     "output_type": "execute_result"
    }
   ],
   "source": [
    "y"
   ]
  },
  {
   "cell_type": "code",
   "execution_count": 18,
   "id": "f2188595",
   "metadata": {},
   "outputs": [],
   "source": [
    "index=['Pepper,_bell___Bacterial_spot',\n",
    " 'Pepper,_bell___healthy',\n",
    " 'Potato___Early_blight',\n",
    " 'Potato___Late_blight',\n",
    " 'Potato___healthy',\n",
    " 'Tomato___Bacterial_spot',\n",
    " 'Tomato___Late_blight',\n",
    " 'Tomato___Leaf_Mold',\n",
    " 'Tomato___Septoria_leaf_spot']"
   ]
  },
  {
   "cell_type": "code",
   "execution_count": 19,
   "id": "22df5865",
   "metadata": {},
   "outputs": [
    {
     "data": {
      "text/plain": [
       "'Pepper,_bell___healthy'"
      ]
     },
     "execution_count": 19,
     "metadata": {},
     "output_type": "execute_result"
    }
   ],
   "source": [
    "index[y[0]]"
   ]
  },
  {
   "cell_type": "code",
   "execution_count": 31,
   "id": "4322ec50",
   "metadata": {},
   "outputs": [],
   "source": [
    "img=image.load_img('C:/Users/Dell/Desktop/Dataset Plant Disease/Veg-dataset/Veg-dataset/test_set/Tomato___Septoria_leaf_spot/c680ff81-bb1f-48c3-a68d-50ba12a94392___Matt.S_CG 7419.jpg',  target_size=(128,128))"
   ]
  },
  {
   "cell_type": "code",
   "execution_count": 32,
   "id": "29a2a9c9",
   "metadata": {},
   "outputs": [],
   "source": [
    "x=image.img_to_array(img)\n",
    "x=np.expand_dims(x,axis=0)\n",
    "y=np.argmax(model.predict(x), axis=1)"
   ]
  },
  {
   "cell_type": "code",
   "execution_count": 33,
   "id": "8b3d9a58",
   "metadata": {},
   "outputs": [],
   "source": [
    "index=['Pepper,_bell___Bacterial_spot',\n",
    " 'Pepper,_bell___healthy',\n",
    " 'Potato___Early_blight',\n",
    " 'Potato___Late_blight',\n",
    " 'Potato___healthy',\n",
    " 'Tomato___Bacterial_spot',\n",
    " 'Tomato___Late_blight',\n",
    " 'Tomato___Leaf_Mold',\n",
    " 'Tomato___Septoria_leaf_spot']"
   ]
  },
  {
   "cell_type": "code",
   "execution_count": 34,
   "id": "d294b6e5",
   "metadata": {},
   "outputs": [
    {
     "data": {
      "text/plain": [
       "'Tomato___Septoria_leaf_spot'"
      ]
     },
     "execution_count": 34,
     "metadata": {},
     "output_type": "execute_result"
    }
   ],
   "source": [
    "index[y[0]]"
   ]
  },
  {
   "cell_type": "code",
   "execution_count": 35,
   "id": "18b5852a",
   "metadata": {},
   "outputs": [
    {
     "data": {
      "text/plain": [
       "array([8], dtype=int64)"
      ]
     },
     "execution_count": 35,
     "metadata": {},
     "output_type": "execute_result"
    }
   ],
   "source": [
    "y"
   ]
  },
  {
   "cell_type": "code",
   "execution_count": null,
   "id": "838acaa5",
   "metadata": {},
   "outputs": [],
   "source": []
  }
 ],
 "metadata": {
  "kernelspec": {
   "display_name": "Python 3 (ipykernel)",
   "language": "python",
   "name": "python3"
  },
  "language_info": {
   "codemirror_mode": {
    "name": "ipython",
    "version": 3
   },
   "file_extension": ".py",
   "mimetype": "text/x-python",
   "name": "python",
   "nbconvert_exporter": "python",
   "pygments_lexer": "ipython3",
   "version": "3.10.4"
  }
 },
 "nbformat": 4,
 "nbformat_minor": 5
}
