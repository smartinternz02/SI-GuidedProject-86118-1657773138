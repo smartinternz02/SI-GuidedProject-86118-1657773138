{
 "cells": [
  {
   "cell_type": "markdown",
   "id": "eb4dbee0",
   "metadata": {},
   "source": [
    "# The model is to be tested with different images to know if it is working correctly.\n",
    "\n",
    "Import the packages and load the saved model\n",
    "Import the required libraries"
   ]
  },
  {
   "cell_type": "code",
   "execution_count": 11,
   "id": "9bb229c6",
   "metadata": {},
   "outputs": [
    {
     "name": "stdout",
     "output_type": "stream",
     "text": [
      "Requirement already satisfied: Tensorflow in c:\\users\\dell\\anaconda3\\envs\\keras_env\\lib\\site-packages (2.8.0)\n",
      "Requirement already satisfied: protobuf>=3.9.2 in c:\\users\\dell\\anaconda3\\envs\\keras_env\\lib\\site-packages (from Tensorflow) (3.19.4)\n",
      "Requirement already satisfied: keras<2.9,>=2.8.0rc0 in c:\\users\\dell\\anaconda3\\envs\\keras_env\\lib\\site-packages (from Tensorflow) (2.8.0)\n",
      "Requirement already satisfied: absl-py>=0.4.0 in c:\\users\\dell\\anaconda3\\envs\\keras_env\\lib\\site-packages (from Tensorflow) (1.1.0)\n",
      "Requirement already satisfied: termcolor>=1.1.0 in c:\\users\\dell\\anaconda3\\envs\\keras_env\\lib\\site-packages (from Tensorflow) (1.1.0)\n",
      "Requirement already satisfied: six>=1.12.0 in c:\\users\\dell\\anaconda3\\envs\\keras_env\\lib\\site-packages (from Tensorflow) (1.16.0)\n",
      "Requirement already satisfied: gast>=0.2.1 in c:\\users\\dell\\anaconda3\\envs\\keras_env\\lib\\site-packages (from Tensorflow) (0.4.0)\n",
      "Requirement already satisfied: astunparse>=1.6.0 in c:\\users\\dell\\anaconda3\\envs\\keras_env\\lib\\site-packages (from Tensorflow) (1.6.3)\n",
      "Requirement already satisfied: keras-preprocessing>=1.1.1 in c:\\users\\dell\\anaconda3\\envs\\keras_env\\lib\\site-packages (from Tensorflow) (1.1.2)\n",
      "Requirement already satisfied: numpy>=1.20 in c:\\users\\dell\\anaconda3\\envs\\keras_env\\lib\\site-packages (from Tensorflow) (1.23.1)\n",
      "Requirement already satisfied: typing-extensions>=3.6.6 in c:\\users\\dell\\anaconda3\\envs\\keras_env\\lib\\site-packages (from Tensorflow) (4.1.1)\n",
      "Requirement already satisfied: wrapt>=1.11.0 in c:\\users\\dell\\anaconda3\\envs\\keras_env\\lib\\site-packages (from Tensorflow) (1.14.1)\n",
      "Requirement already satisfied: google-pasta>=0.1.1 in c:\\users\\dell\\anaconda3\\envs\\keras_env\\lib\\site-packages (from Tensorflow) (0.2.0)\n",
      "Requirement already satisfied: libclang>=9.0.1 in c:\\users\\dell\\anaconda3\\envs\\keras_env\\lib\\site-packages (from Tensorflow) (14.0.1)\n",
      "Requirement already satisfied: tf-estimator-nightly==2.8.0.dev2021122109 in c:\\users\\dell\\anaconda3\\envs\\keras_env\\lib\\site-packages (from Tensorflow) (2.8.0.dev2021122109)\n",
      "Requirement already satisfied: flatbuffers>=1.12 in c:\\users\\dell\\anaconda3\\envs\\keras_env\\lib\\site-packages (from Tensorflow) (1.12)\n",
      "Requirement already satisfied: setuptools in c:\\users\\dell\\anaconda3\\envs\\keras_env\\lib\\site-packages (from Tensorflow) (61.2.0)\n",
      "Requirement already satisfied: tensorflow-io-gcs-filesystem>=0.23.1 in c:\\users\\dell\\anaconda3\\envs\\keras_env\\lib\\site-packages (from Tensorflow) (0.26.0)\n",
      "Requirement already satisfied: opt-einsum>=2.3.2 in c:\\users\\dell\\anaconda3\\envs\\keras_env\\lib\\site-packages (from Tensorflow) (3.3.0)\n",
      "Requirement already satisfied: grpcio<2.0,>=1.24.3 in c:\\users\\dell\\anaconda3\\envs\\keras_env\\lib\\site-packages (from Tensorflow) (1.47.0)\n",
      "Requirement already satisfied: h5py>=2.9.0 in c:\\users\\dell\\anaconda3\\envs\\keras_env\\lib\\site-packages (from Tensorflow) (3.7.0)\n",
      "Requirement already satisfied: tensorboard<2.9,>=2.8 in c:\\users\\dell\\anaconda3\\envs\\keras_env\\lib\\site-packages (from Tensorflow) (2.8.0)\n",
      "Requirement already satisfied: wheel<1.0,>=0.23.0 in c:\\users\\dell\\anaconda3\\envs\\keras_env\\lib\\site-packages (from astunparse>=1.6.0->Tensorflow) (0.37.1)\n",
      "Requirement already satisfied: google-auth<3,>=1.6.3 in c:\\users\\dell\\anaconda3\\envs\\keras_env\\lib\\site-packages (from tensorboard<2.9,>=2.8->Tensorflow) (2.9.1)\n",
      "Requirement already satisfied: tensorboard-data-server<0.7.0,>=0.6.0 in c:\\users\\dell\\anaconda3\\envs\\keras_env\\lib\\site-packages (from tensorboard<2.9,>=2.8->Tensorflow) (0.6.1)\n",
      "Requirement already satisfied: markdown>=2.6.8 in c:\\users\\dell\\anaconda3\\envs\\keras_env\\lib\\site-packages (from tensorboard<2.9,>=2.8->Tensorflow) (3.3.7)\n",
      "Requirement already satisfied: requests<3,>=2.21.0 in c:\\users\\dell\\anaconda3\\envs\\keras_env\\lib\\site-packages (from tensorboard<2.9,>=2.8->Tensorflow) (2.28.1)\n",
      "Requirement already satisfied: werkzeug>=0.11.15 in c:\\users\\dell\\anaconda3\\envs\\keras_env\\lib\\site-packages (from tensorboard<2.9,>=2.8->Tensorflow) (2.1.2)\n",
      "Requirement already satisfied: google-auth-oauthlib<0.5,>=0.4.1 in c:\\users\\dell\\anaconda3\\envs\\keras_env\\lib\\site-packages (from tensorboard<2.9,>=2.8->Tensorflow) (0.4.6)\n",
      "Requirement already satisfied: tensorboard-plugin-wit>=1.6.0 in c:\\users\\dell\\anaconda3\\envs\\keras_env\\lib\\site-packages (from tensorboard<2.9,>=2.8->Tensorflow) (1.8.1)\n",
      "Requirement already satisfied: rsa<5,>=3.1.4 in c:\\users\\dell\\anaconda3\\envs\\keras_env\\lib\\site-packages (from google-auth<3,>=1.6.3->tensorboard<2.9,>=2.8->Tensorflow) (4.8)\n",
      "Requirement already satisfied: cachetools<6.0,>=2.0.0 in c:\\users\\dell\\anaconda3\\envs\\keras_env\\lib\\site-packages (from google-auth<3,>=1.6.3->tensorboard<2.9,>=2.8->Tensorflow) (5.2.0)\n",
      "Requirement already satisfied: pyasn1-modules>=0.2.1 in c:\\users\\dell\\anaconda3\\envs\\keras_env\\lib\\site-packages (from google-auth<3,>=1.6.3->tensorboard<2.9,>=2.8->Tensorflow) (0.2.8)\n",
      "Requirement already satisfied: requests-oauthlib>=0.7.0 in c:\\users\\dell\\anaconda3\\envs\\keras_env\\lib\\site-packages (from google-auth-oauthlib<0.5,>=0.4.1->tensorboard<2.9,>=2.8->Tensorflow) (1.3.1)\n",
      "Requirement already satisfied: pyasn1<0.5.0,>=0.4.6 in c:\\users\\dell\\anaconda3\\envs\\keras_env\\lib\\site-packages (from pyasn1-modules>=0.2.1->google-auth<3,>=1.6.3->tensorboard<2.9,>=2.8->Tensorflow) (0.4.8)\n",
      "Requirement already satisfied: idna<4,>=2.5 in c:\\users\\dell\\anaconda3\\envs\\keras_env\\lib\\site-packages (from requests<3,>=2.21.0->tensorboard<2.9,>=2.8->Tensorflow) (3.3)\n",
      "Requirement already satisfied: charset-normalizer<3,>=2 in c:\\users\\dell\\anaconda3\\envs\\keras_env\\lib\\site-packages (from requests<3,>=2.21.0->tensorboard<2.9,>=2.8->Tensorflow) (2.1.0)\n",
      "Requirement already satisfied: urllib3<1.27,>=1.21.1 in c:\\users\\dell\\anaconda3\\envs\\keras_env\\lib\\site-packages (from requests<3,>=2.21.0->tensorboard<2.9,>=2.8->Tensorflow) (1.26.10)\n",
      "Requirement already satisfied: certifi>=2017.4.17 in c:\\users\\dell\\anaconda3\\envs\\keras_env\\lib\\site-packages (from requests<3,>=2.21.0->tensorboard<2.9,>=2.8->Tensorflow) (2022.6.15)\n",
      "Requirement already satisfied: oauthlib>=3.0.0 in c:\\users\\dell\\anaconda3\\envs\\keras_env\\lib\\site-packages (from requests-oauthlib>=0.7.0->google-auth-oauthlib<0.5,>=0.4.1->tensorboard<2.9,>=2.8->Tensorflow) (3.2.0)\n",
      "Requirement already satisfied: keras in c:\\users\\dell\\anaconda3\\envs\\keras_env\\lib\\site-packages (2.8.0)\n",
      "Requirement already satisfied: pillow in c:\\users\\dell\\anaconda3\\envs\\keras_env\\lib\\site-packages (9.2.0)\n"
     ]
    }
   ],
   "source": [
    "!pip install Tensorflow\n",
    "!pip install keras\n",
    "!pip install pillow"
   ]
  },
  {
   "cell_type": "code",
   "execution_count": 12,
   "id": "e54286db",
   "metadata": {},
   "outputs": [],
   "source": [
    "from tensorflow.keras.models import load_model\n",
    "from tensorflow.keras.preprocessing import image\n",
    "from tensorflow.keras.preprocessing.image import img_to_array\n",
    "import numpy as np"
   ]
  },
  {
   "cell_type": "code",
   "execution_count": 13,
   "id": "b5f6b1c0",
   "metadata": {},
   "outputs": [],
   "source": [
    "model=load_model(\"fruit.h5\")"
   ]
  },
  {
   "cell_type": "markdown",
   "id": "685b8f4d",
   "metadata": {},
   "source": [
    "Load the test image, pre-process it and predict\n",
    "Pre-processing the image includes converting the image to array and resizing according to the model. \n",
    "Give the pre-processed image to the model to know to which class your model belongs to."
   ]
  },
  {
   "cell_type": "code",
   "execution_count": 18,
   "id": "a84ad5ec",
   "metadata": {},
   "outputs": [],
   "source": [
    "img=image.load_img('C:/Users/Dell/Desktop/Dataset Plant Disease/fruit-dataset/fruit-dataset/test/Apple___healthy/21c10a73-ebeb-4a16-898b-8b39d9d6eca2___RS_HL 6315.jpg', target_size=(128,128))"
   ]
  },
  {
   "cell_type": "code",
   "execution_count": 19,
   "id": "17e48d38",
   "metadata": {},
   "outputs": [],
   "source": [
    "x=image.img_to_array(img)"
   ]
  },
  {
   "cell_type": "code",
   "execution_count": 20,
   "id": "1e15416d",
   "metadata": {},
   "outputs": [],
   "source": [
    "x=np.expand_dims(x,axis=0)"
   ]
  },
  {
   "cell_type": "code",
   "execution_count": 22,
   "id": "f20591ad",
   "metadata": {},
   "outputs": [
    {
     "data": {
      "text/plain": [
       "array([[[[123., 117., 117.],\n",
       "         [117., 111., 111.],\n",
       "         [121., 115., 115.],\n",
       "         ...,\n",
       "         [125., 119., 119.],\n",
       "         [122., 116., 116.],\n",
       "         [132., 126., 126.]],\n",
       "\n",
       "        [[125., 119., 119.],\n",
       "         [121., 115., 115.],\n",
       "         [126., 120., 120.],\n",
       "         ...,\n",
       "         [124., 118., 118.],\n",
       "         [119., 113., 113.],\n",
       "         [135., 129., 129.]],\n",
       "\n",
       "        [[121., 115., 115.],\n",
       "         [119., 113., 113.],\n",
       "         [127., 121., 121.],\n",
       "         ...,\n",
       "         [112., 106., 106.],\n",
       "         [123., 117., 117.],\n",
       "         [117., 111., 111.]],\n",
       "\n",
       "        ...,\n",
       "\n",
       "        [[165., 164., 169.],\n",
       "         [163., 162., 167.],\n",
       "         [162., 161., 166.],\n",
       "         ...,\n",
       "         [175., 174., 180.],\n",
       "         [176., 175., 181.],\n",
       "         [177., 176., 182.]],\n",
       "\n",
       "        [[164., 163., 168.],\n",
       "         [163., 162., 167.],\n",
       "         [166., 165., 170.],\n",
       "         ...,\n",
       "         [176., 175., 181.],\n",
       "         [179., 178., 184.],\n",
       "         [182., 181., 187.]],\n",
       "\n",
       "        [[163., 162., 167.],\n",
       "         [160., 159., 164.],\n",
       "         [162., 161., 166.],\n",
       "         ...,\n",
       "         [173., 172., 178.],\n",
       "         [173., 172., 178.],\n",
       "         [174., 173., 179.]]]], dtype=float32)"
      ]
     },
     "execution_count": 22,
     "metadata": {},
     "output_type": "execute_result"
    }
   ],
   "source": [
    "x"
   ]
  },
  {
   "cell_type": "code",
   "execution_count": 23,
   "id": "3b970019",
   "metadata": {},
   "outputs": [],
   "source": [
    "y=np.argmax(model.predict(x), axis=1)"
   ]
  },
  {
   "cell_type": "code",
   "execution_count": 38,
   "id": "94cd7aa0",
   "metadata": {},
   "outputs": [
    {
     "data": {
      "text/plain": [
       "array([3], dtype=int64)"
      ]
     },
     "execution_count": 38,
     "metadata": {},
     "output_type": "execute_result"
    }
   ],
   "source": [
    "y"
   ]
  },
  {
   "cell_type": "code",
   "execution_count": 27,
   "id": "f2188595",
   "metadata": {},
   "outputs": [],
   "source": [
    "index=['Apple___Black_rot', 'Apple___healthy', 'Corn_(maize)___Northern_Leaf_Blight', 'Corn_(maize)___healthy', \n",
    "'Peach___Bacterial_spot',  'Peach___healthy']"
   ]
  },
  {
   "cell_type": "code",
   "execution_count": 28,
   "id": "22df5865",
   "metadata": {},
   "outputs": [
    {
     "data": {
      "text/plain": [
       "'Apple___healthy'"
      ]
     },
     "execution_count": 28,
     "metadata": {},
     "output_type": "execute_result"
    }
   ],
   "source": [
    "index[y[0]]"
   ]
  },
  {
   "cell_type": "code",
   "execution_count": 33,
   "id": "4322ec50",
   "metadata": {},
   "outputs": [],
   "source": [
    "img=image.load_img('C:/Users/Dell/Desktop/Dataset Plant Disease/fruit-dataset/fruit-dataset/test/Peach___Bacterial_spot/0a05b466-12ed-4ef3-935c-ea7e73107705___Rut._Bact.S 3353.jpg',  target_size=(128,128))"
   ]
  },
  {
   "cell_type": "code",
   "execution_count": 35,
   "id": "29a2a9c9",
   "metadata": {},
   "outputs": [],
   "source": [
    "x=image.img_to_array(img)\n",
    "x=np.expand_dims(x,axis=0)\n",
    "y=np.argmax(model.predict(x), axis=1)"
   ]
  },
  {
   "cell_type": "code",
   "execution_count": 40,
   "id": "d294b6e5",
   "metadata": {},
   "outputs": [
    {
     "data": {
      "text/plain": [
       "'Corn_(maize)___healthy'"
      ]
     },
     "execution_count": 40,
     "metadata": {},
     "output_type": "execute_result"
    }
   ],
   "source": [
    "index[y[0]]"
   ]
  },
  {
   "cell_type": "code",
   "execution_count": 41,
   "id": "18b5852a",
   "metadata": {},
   "outputs": [
    {
     "data": {
      "text/plain": [
       "array([3], dtype=int64)"
      ]
     },
     "execution_count": 41,
     "metadata": {},
     "output_type": "execute_result"
    }
   ],
   "source": [
    "y"
   ]
  },
  {
   "cell_type": "code",
   "execution_count": null,
   "id": "838acaa5",
   "metadata": {},
   "outputs": [],
   "source": []
  }
 ],
 "metadata": {
  "kernelspec": {
   "display_name": "Python 3 (ipykernel)",
   "language": "python",
   "name": "python3"
  },
  "language_info": {
   "codemirror_mode": {
    "name": "ipython",
    "version": 3
   },
   "file_extension": ".py",
   "mimetype": "text/x-python",
   "name": "python",
   "nbconvert_exporter": "python",
   "pygments_lexer": "ipython3",
   "version": "3.10.4"
  }
 },
 "nbformat": 4,
 "nbformat_minor": 5
}
