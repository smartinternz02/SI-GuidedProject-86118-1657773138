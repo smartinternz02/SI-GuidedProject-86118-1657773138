{
 "cells": [
  {
   "cell_type": "code",
   "execution_count": 1,
   "id": "283c5aa5",
   "metadata": {},
   "outputs": [
    {
     "name": "stdout",
     "output_type": "stream",
     "text": [
      "Requirement already satisfied: Tensorflow in c:\\users\\dell\\anaconda3\\envs\\keras_env\\lib\\site-packages (2.8.0)\n",
      "Requirement already satisfied: numpy>=1.20 in c:\\users\\dell\\anaconda3\\envs\\keras_env\\lib\\site-packages (from Tensorflow) (1.23.1)\n",
      "Requirement already satisfied: grpcio<2.0,>=1.24.3 in c:\\users\\dell\\anaconda3\\envs\\keras_env\\lib\\site-packages (from Tensorflow) (1.47.0)\n",
      "Requirement already satisfied: six>=1.12.0 in c:\\users\\dell\\anaconda3\\envs\\keras_env\\lib\\site-packages (from Tensorflow) (1.16.0)\n",
      "Requirement already satisfied: astunparse>=1.6.0 in c:\\users\\dell\\anaconda3\\envs\\keras_env\\lib\\site-packages (from Tensorflow) (1.6.3)\n",
      "Requirement already satisfied: setuptools in c:\\users\\dell\\anaconda3\\envs\\keras_env\\lib\\site-packages (from Tensorflow) (61.2.0)\n",
      "Requirement already satisfied: tensorflow-io-gcs-filesystem>=0.23.1 in c:\\users\\dell\\anaconda3\\envs\\keras_env\\lib\\site-packages (from Tensorflow) (0.26.0)\n",
      "Requirement already satisfied: typing-extensions>=3.6.6 in c:\\users\\dell\\anaconda3\\envs\\keras_env\\lib\\site-packages (from Tensorflow) (4.1.1)\n",
      "Requirement already satisfied: libclang>=9.0.1 in c:\\users\\dell\\anaconda3\\envs\\keras_env\\lib\\site-packages (from Tensorflow) (14.0.1)\n",
      "Requirement already satisfied: keras-preprocessing>=1.1.1 in c:\\users\\dell\\anaconda3\\envs\\keras_env\\lib\\site-packages (from Tensorflow) (1.1.2)\n",
      "Requirement already satisfied: protobuf>=3.9.2 in c:\\users\\dell\\anaconda3\\envs\\keras_env\\lib\\site-packages (from Tensorflow) (3.19.4)\n",
      "Requirement already satisfied: opt-einsum>=2.3.2 in c:\\users\\dell\\anaconda3\\envs\\keras_env\\lib\\site-packages (from Tensorflow) (3.3.0)\n",
      "Requirement already satisfied: h5py>=2.9.0 in c:\\users\\dell\\anaconda3\\envs\\keras_env\\lib\\site-packages (from Tensorflow) (3.7.0)\n",
      "Requirement already satisfied: flatbuffers>=1.12 in c:\\users\\dell\\anaconda3\\envs\\keras_env\\lib\\site-packages (from Tensorflow) (1.12)\n",
      "Requirement already satisfied: keras<2.9,>=2.8.0rc0 in c:\\users\\dell\\anaconda3\\envs\\keras_env\\lib\\site-packages (from Tensorflow) (2.8.0)\n",
      "Requirement already satisfied: gast>=0.2.1 in c:\\users\\dell\\anaconda3\\envs\\keras_env\\lib\\site-packages (from Tensorflow) (0.4.0)\n",
      "Requirement already satisfied: absl-py>=0.4.0 in c:\\users\\dell\\anaconda3\\envs\\keras_env\\lib\\site-packages (from Tensorflow) (1.1.0)\n",
      "Requirement already satisfied: termcolor>=1.1.0 in c:\\users\\dell\\anaconda3\\envs\\keras_env\\lib\\site-packages (from Tensorflow) (1.1.0)\n",
      "Requirement already satisfied: tensorboard<2.9,>=2.8 in c:\\users\\dell\\anaconda3\\envs\\keras_env\\lib\\site-packages (from Tensorflow) (2.8.0)\n",
      "Requirement already satisfied: google-pasta>=0.1.1 in c:\\users\\dell\\anaconda3\\envs\\keras_env\\lib\\site-packages (from Tensorflow) (0.2.0)\n",
      "Requirement already satisfied: tf-estimator-nightly==2.8.0.dev2021122109 in c:\\users\\dell\\anaconda3\\envs\\keras_env\\lib\\site-packages (from Tensorflow) (2.8.0.dev2021122109)\n",
      "Requirement already satisfied: wrapt>=1.11.0 in c:\\users\\dell\\anaconda3\\envs\\keras_env\\lib\\site-packages (from Tensorflow) (1.14.1)\n",
      "Requirement already satisfied: wheel<1.0,>=0.23.0 in c:\\users\\dell\\anaconda3\\envs\\keras_env\\lib\\site-packages (from astunparse>=1.6.0->Tensorflow) (0.37.1)\n",
      "Requirement already satisfied: google-auth<3,>=1.6.3 in c:\\users\\dell\\anaconda3\\envs\\keras_env\\lib\\site-packages (from tensorboard<2.9,>=2.8->Tensorflow) (2.9.1)\n",
      "Requirement already satisfied: tensorboard-data-server<0.7.0,>=0.6.0 in c:\\users\\dell\\anaconda3\\envs\\keras_env\\lib\\site-packages (from tensorboard<2.9,>=2.8->Tensorflow) (0.6.1)\n",
      "Requirement already satisfied: google-auth-oauthlib<0.5,>=0.4.1 in c:\\users\\dell\\anaconda3\\envs\\keras_env\\lib\\site-packages (from tensorboard<2.9,>=2.8->Tensorflow) (0.4.6)\n",
      "Requirement already satisfied: requests<3,>=2.21.0 in c:\\users\\dell\\anaconda3\\envs\\keras_env\\lib\\site-packages (from tensorboard<2.9,>=2.8->Tensorflow) (2.28.1)\n",
      "Requirement already satisfied: tensorboard-plugin-wit>=1.6.0 in c:\\users\\dell\\anaconda3\\envs\\keras_env\\lib\\site-packages (from tensorboard<2.9,>=2.8->Tensorflow) (1.8.1)\n",
      "Requirement already satisfied: markdown>=2.6.8 in c:\\users\\dell\\anaconda3\\envs\\keras_env\\lib\\site-packages (from tensorboard<2.9,>=2.8->Tensorflow) (3.3.7)\n",
      "Requirement already satisfied: werkzeug>=0.11.15 in c:\\users\\dell\\anaconda3\\envs\\keras_env\\lib\\site-packages (from tensorboard<2.9,>=2.8->Tensorflow) (2.1.2)\n",
      "Requirement already satisfied: cachetools<6.0,>=2.0.0 in c:\\users\\dell\\anaconda3\\envs\\keras_env\\lib\\site-packages (from google-auth<3,>=1.6.3->tensorboard<2.9,>=2.8->Tensorflow) (5.2.0)\n",
      "Requirement already satisfied: rsa<5,>=3.1.4 in c:\\users\\dell\\anaconda3\\envs\\keras_env\\lib\\site-packages (from google-auth<3,>=1.6.3->tensorboard<2.9,>=2.8->Tensorflow) (4.8)\n",
      "Requirement already satisfied: pyasn1-modules>=0.2.1 in c:\\users\\dell\\anaconda3\\envs\\keras_env\\lib\\site-packages (from google-auth<3,>=1.6.3->tensorboard<2.9,>=2.8->Tensorflow) (0.2.8)\n",
      "Requirement already satisfied: requests-oauthlib>=0.7.0 in c:\\users\\dell\\anaconda3\\envs\\keras_env\\lib\\site-packages (from google-auth-oauthlib<0.5,>=0.4.1->tensorboard<2.9,>=2.8->Tensorflow) (1.3.1)\n",
      "Requirement already satisfied: pyasn1<0.5.0,>=0.4.6 in c:\\users\\dell\\anaconda3\\envs\\keras_env\\lib\\site-packages (from pyasn1-modules>=0.2.1->google-auth<3,>=1.6.3->tensorboard<2.9,>=2.8->Tensorflow) (0.4.8)\n",
      "Requirement already satisfied: certifi>=2017.4.17 in c:\\users\\dell\\anaconda3\\envs\\keras_env\\lib\\site-packages (from requests<3,>=2.21.0->tensorboard<2.9,>=2.8->Tensorflow) (2022.6.15)\n",
      "Requirement already satisfied: charset-normalizer<3,>=2 in c:\\users\\dell\\anaconda3\\envs\\keras_env\\lib\\site-packages (from requests<3,>=2.21.0->tensorboard<2.9,>=2.8->Tensorflow) (2.1.0)\n",
      "Requirement already satisfied: urllib3<1.27,>=1.21.1 in c:\\users\\dell\\anaconda3\\envs\\keras_env\\lib\\site-packages (from requests<3,>=2.21.0->tensorboard<2.9,>=2.8->Tensorflow) (1.26.10)\n",
      "Requirement already satisfied: idna<4,>=2.5 in c:\\users\\dell\\anaconda3\\envs\\keras_env\\lib\\site-packages (from requests<3,>=2.21.0->tensorboard<2.9,>=2.8->Tensorflow) (3.3)\n",
      "Requirement already satisfied: oauthlib>=3.0.0 in c:\\users\\dell\\anaconda3\\envs\\keras_env\\lib\\site-packages (from requests-oauthlib>=0.7.0->google-auth-oauthlib<0.5,>=0.4.1->tensorboard<2.9,>=2.8->Tensorflow) (3.2.0)\n",
      "Requirement already satisfied: keras in c:\\users\\dell\\anaconda3\\envs\\keras_env\\lib\\site-packages (2.8.0)\n",
      "Requirement already satisfied: pillow in c:\\users\\dell\\anaconda3\\envs\\keras_env\\lib\\site-packages (9.2.0)\n"
     ]
    }
   ],
   "source": [
    "!pip install Tensorflow\n",
    "!pip install keras\n",
    "!pip install pillow"
   ]
  },
  {
   "cell_type": "code",
   "execution_count": 2,
   "id": "633984c9",
   "metadata": {},
   "outputs": [],
   "source": [
    "from keras.preprocessing.image import ImageDataGenerator\n",
    "train_datagen=ImageDataGenerator(rescale=1./255, shear_range=0.2, zoom_range=0.2,horizontal_flip=True)\n",
    "test_datagen=ImageDataGenerator(rescale=1)"
   ]
  },
  {
   "cell_type": "code",
   "execution_count": 30,
   "id": "fbc73e17",
   "metadata": {},
   "outputs": [
    {
     "name": "stdout",
     "output_type": "stream",
     "text": [
      "Found 11386 images belonging to 9 classes.\n",
      "Found 3416 images belonging to 9 classes.\n"
     ]
    }
   ],
   "source": [
    "x_train=train_datagen.flow_from_directory('C:/Users/Dell/Desktop/Dataset Plant Disease/Veg-dataset/Veg-dataset/train_set', target_size=(128,128),batch_size=16,class_mode='categorical')\n",
    "x_test=test_datagen.flow_from_directory('C:/Users/Dell/Desktop/Dataset Plant Disease/Veg-dataset/Veg-dataset/test_set', target_size=(128,128),batch_size=16,class_mode='categorical')"
   ]
  },
  {
   "cell_type": "code",
   "execution_count": 45,
   "id": "55d5b0fe",
   "metadata": {},
   "outputs": [
    {
     "data": {
      "text/plain": [
       "{'Pepper,_bell___Bacterial_spot': 0,\n",
       " 'Pepper,_bell___healthy': 1,\n",
       " 'Potato___Early_blight': 2,\n",
       " 'Potato___Late_blight': 3,\n",
       " 'Potato___healthy': 4,\n",
       " 'Tomato___Bacterial_spot': 5,\n",
       " 'Tomato___Late_blight': 6,\n",
       " 'Tomato___Leaf_Mold': 7,\n",
       " 'Tomato___Septoria_leaf_spot': 8}"
      ]
     },
     "execution_count": 45,
     "metadata": {},
     "output_type": "execute_result"
    }
   ],
   "source": [
    "x_train.class_indices"
   ]
  },
  {
   "cell_type": "code",
   "execution_count": 19,
   "id": "186833be",
   "metadata": {},
   "outputs": [],
   "source": [
    "import numpy as np\n",
    "from tensorflow.keras.models import load_model\n",
    "from tensorflow.keras.preprocessing import image"
   ]
  },
  {
   "cell_type": "code",
   "execution_count": 20,
   "id": "89aaa593",
   "metadata": {},
   "outputs": [],
   "source": [
    "from keras.models import Sequential\n",
    "from keras.layers import Dense\n",
    "from keras.layers import Convolution2D\n",
    "from keras.layers import MaxPooling2D\n",
    "from keras.layers import Flatten"
   ]
  },
  {
   "cell_type": "code",
   "execution_count": 31,
   "id": "2f8def2c",
   "metadata": {},
   "outputs": [],
   "source": [
    "model=Sequential()"
   ]
  },
  {
   "cell_type": "code",
   "execution_count": 32,
   "id": "95994d66",
   "metadata": {},
   "outputs": [],
   "source": [
    "model.add(Convolution2D(32,(4,4), input_shape=(128,128,3), activation='relu'))"
   ]
  },
  {
   "cell_type": "code",
   "execution_count": 33,
   "id": "85e5bc19",
   "metadata": {},
   "outputs": [],
   "source": [
    "model.add(MaxPooling2D(pool_size=(2,2)))"
   ]
  },
  {
   "cell_type": "code",
   "execution_count": 34,
   "id": "afa7296d",
   "metadata": {},
   "outputs": [],
   "source": [
    "model.add(Flatten())"
   ]
  },
  {
   "cell_type": "code",
   "execution_count": 35,
   "id": "7ff8021e",
   "metadata": {},
   "outputs": [],
   "source": [
    "model.add(Dense(300, kernel_initializer='uniform', activation='relu'))\n",
    "model.add(Dense(150, kernel_initializer='uniform', activation='relu'))\n",
    "model.add(Dense(75, kernel_initializer='uniform', activation='relu'))"
   ]
  },
  {
   "cell_type": "code",
   "execution_count": 36,
   "id": "8dd883ec",
   "metadata": {},
   "outputs": [],
   "source": [
    "model.add(Dense(9, kernel_initializer='uniform', activation='softmax'))"
   ]
  },
  {
   "cell_type": "code",
   "execution_count": 37,
   "id": "eed2296b",
   "metadata": {},
   "outputs": [],
   "source": [
    "model.compile(loss='categorical_crossentropy',optimizer='adam', metrics=['accuracy'])"
   ]
  },
  {
   "cell_type": "code",
   "execution_count": 39,
   "id": "8a2c8acc",
   "metadata": {},
   "outputs": [
    {
     "name": "stdout",
     "output_type": "stream",
     "text": [
      "Epoch 1/20\n",
      "89/89 [==============================] - 41s 458ms/step - loss: 1.6310 - accuracy: 0.3806 - val_loss: 107.7353 - val_accuracy: 0.4560\n",
      "Epoch 2/20\n",
      "89/89 [==============================] - 43s 483ms/step - loss: 1.4238 - accuracy: 0.4767 - val_loss: 164.9139 - val_accuracy: 0.3380\n",
      "Epoch 3/20\n",
      "89/89 [==============================] - 41s 461ms/step - loss: 1.3073 - accuracy: 0.5098 - val_loss: 109.4257 - val_accuracy: 0.5278\n",
      "Epoch 4/20\n",
      "89/89 [==============================] - 43s 477ms/step - loss: 1.1580 - accuracy: 0.5882 - val_loss: 250.1262 - val_accuracy: 0.3866\n",
      "Epoch 5/20\n",
      "89/89 [==============================] - 40s 447ms/step - loss: 0.9880 - accuracy: 0.6362 - val_loss: 433.7624 - val_accuracy: 0.3472\n",
      "Epoch 6/20\n",
      "89/89 [==============================] - 44s 492ms/step - loss: 0.9183 - accuracy: 0.6777 - val_loss: 419.4956 - val_accuracy: 0.3449\n",
      "Epoch 7/20\n",
      "89/89 [==============================] - 47s 521ms/step - loss: 0.9295 - accuracy: 0.6763 - val_loss: 323.6357 - val_accuracy: 0.3912\n",
      "Epoch 8/20\n",
      "89/89 [==============================] - 45s 505ms/step - loss: 0.7969 - accuracy: 0.7170 - val_loss: 663.9144 - val_accuracy: 0.2685\n",
      "Epoch 9/20\n",
      "89/89 [==============================] - 44s 496ms/step - loss: 0.7626 - accuracy: 0.7086 - val_loss: 631.7685 - val_accuracy: 0.3194\n",
      "Epoch 10/20\n",
      "89/89 [==============================] - 48s 538ms/step - loss: 0.7026 - accuracy: 0.7419 - val_loss: 524.5797 - val_accuracy: 0.3102\n",
      "Epoch 11/20\n",
      "89/89 [==============================] - 47s 522ms/step - loss: 0.6290 - accuracy: 0.7619 - val_loss: 763.9021 - val_accuracy: 0.3102\n",
      "Epoch 12/20\n",
      "89/89 [==============================] - 47s 530ms/step - loss: 0.6327 - accuracy: 0.7877 - val_loss: 664.8749 - val_accuracy: 0.3403\n",
      "Epoch 13/20\n",
      "89/89 [==============================] - 49s 549ms/step - loss: 0.6251 - accuracy: 0.7647 - val_loss: 634.4021 - val_accuracy: 0.3611\n",
      "Epoch 14/20\n",
      "89/89 [==============================] - 49s 545ms/step - loss: 0.5191 - accuracy: 0.8188 - val_loss: 679.6367 - val_accuracy: 0.3472\n",
      "Epoch 15/20\n",
      "89/89 [==============================] - 49s 549ms/step - loss: 0.5523 - accuracy: 0.8041 - val_loss: 1041.2140 - val_accuracy: 0.3171\n",
      "Epoch 16/20\n",
      "89/89 [==============================] - 47s 528ms/step - loss: 0.5303 - accuracy: 0.8132 - val_loss: 759.5687 - val_accuracy: 0.3449\n",
      "Epoch 17/20\n",
      "89/89 [==============================] - 47s 524ms/step - loss: 0.5094 - accuracy: 0.8160 - val_loss: 1105.2568 - val_accuracy: 0.2662\n",
      "Epoch 18/20\n",
      "89/89 [==============================] - 48s 536ms/step - loss: 0.5016 - accuracy: 0.8160 - val_loss: 759.0103 - val_accuracy: 0.3750\n",
      "Epoch 19/20\n",
      "89/89 [==============================] - 45s 501ms/step - loss: 0.5032 - accuracy: 0.8230 - val_loss: 702.0227 - val_accuracy: 0.3819\n",
      "Epoch 20/20\n",
      "89/89 [==============================] - 46s 518ms/step - loss: 0.5660 - accuracy: 0.8132 - val_loss: 800.8093 - val_accuracy: 0.3333\n"
     ]
    },
    {
     "data": {
      "text/plain": [
       "<keras.callbacks.History at 0x276a50a0be0>"
      ]
     },
     "execution_count": 39,
     "metadata": {},
     "output_type": "execute_result"
    }
   ],
   "source": [
    "model.fit(x_train, steps_per_epoch=89, validation_data=x_test,validation_steps=27, epochs=20)"
   ]
  },
  {
   "cell_type": "code",
   "execution_count": 43,
   "id": "c08116ab",
   "metadata": {},
   "outputs": [],
   "source": [
    "model.save('vegetable.h5')"
   ]
  },
  {
   "cell_type": "code",
   "execution_count": 44,
   "id": "6d8260c1",
   "metadata": {},
   "outputs": [
    {
     "name": "stdout",
     "output_type": "stream",
     "text": [
      "Model: \"sequential_2\"\n",
      "_________________________________________________________________\n",
      " Layer (type)                Output Shape              Param #   \n",
      "=================================================================\n",
      " conv2d_2 (Conv2D)           (None, 125, 125, 32)      1568      \n",
      "                                                                 \n",
      " max_pooling2d_2 (MaxPooling  (None, 62, 62, 32)       0         \n",
      " 2D)                                                             \n",
      "                                                                 \n",
      " flatten_2 (Flatten)         (None, 123008)            0         \n",
      "                                                                 \n",
      " dense_8 (Dense)             (None, 300)               36902700  \n",
      "                                                                 \n",
      " dense_9 (Dense)             (None, 150)               45150     \n",
      "                                                                 \n",
      " dense_10 (Dense)            (None, 75)                11325     \n",
      "                                                                 \n",
      " dense_11 (Dense)            (None, 9)                 684       \n",
      "                                                                 \n",
      "=================================================================\n",
      "Total params: 36,961,427\n",
      "Trainable params: 36,961,427\n",
      "Non-trainable params: 0\n",
      "_________________________________________________________________\n"
     ]
    }
   ],
   "source": [
    "model.summary() "
   ]
  },
  {
   "cell_type": "code",
   "execution_count": null,
   "id": "81e56294",
   "metadata": {},
   "outputs": [],
   "source": []
  }
 ],
 "metadata": {
  "kernelspec": {
   "display_name": "Python 3 (ipykernel)",
   "language": "python",
   "name": "python3"
  },
  "language_info": {
   "codemirror_mode": {
    "name": "ipython",
    "version": 3
   },
   "file_extension": ".py",
   "mimetype": "text/x-python",
   "name": "python",
   "nbconvert_exporter": "python",
   "pygments_lexer": "ipython3",
   "version": "3.10.4"
  }
 },
 "nbformat": 4,
 "nbformat_minor": 5
}
